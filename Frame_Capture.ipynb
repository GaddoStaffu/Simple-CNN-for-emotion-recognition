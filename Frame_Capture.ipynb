{
 "cells": [
  {
   "cell_type": "code",
   "execution_count": 4,
   "id": "4bcf098c-b8fc-4d6c-a15f-137e60b1628c",
   "metadata": {},
   "outputs": [
    {
     "name": "stdout",
     "output_type": "stream",
     "text": [
      "Collecting opencv-python\n",
      "  Using cached opencv_python-4.10.0.84-cp37-abi3-win_amd64.whl.metadata (20 kB)\n",
      "Collecting numpy>=1.21.2 (from opencv-python)\n",
      "  Using cached numpy-2.1.3-cp312-cp312-win_amd64.whl.metadata (60 kB)\n",
      "Using cached opencv_python-4.10.0.84-cp37-abi3-win_amd64.whl (38.8 MB)\n",
      "Downloading numpy-2.1.3-cp312-cp312-win_amd64.whl (12.6 MB)\n",
      "   ---------------------------------------- 0.0/12.6 MB ? eta -:--:--\n",
      "   ------------------------- -------------- 7.9/12.6 MB 60.8 MB/s eta 0:00:01\n",
      "   ---------------------------------------- 12.6/12.6 MB 52.6 MB/s eta 0:00:00\n",
      "Installing collected packages: numpy, opencv-python\n",
      "Successfully installed numpy-2.1.3 opencv-python-4.10.0.84\n"
     ]
    },
    {
     "name": "stderr",
     "output_type": "stream",
     "text": [
      "\n",
      "[notice] A new release of pip is available: 24.2 -> 24.3.1\n",
      "[notice] To update, run: python.exe -m pip install --upgrade pip\n"
     ]
    }
   ],
   "source": [
    "!pip install opencv-python"
   ]
  },
  {
   "cell_type": "code",
   "execution_count": 5,
   "id": "41a6c940-6a35-4657-abc9-aa3953e76ba3",
   "metadata": {},
   "outputs": [
    {
     "name": "stdout",
     "output_type": "stream",
     "text": [
      "Saved captured_frames\\frame_0.jpg\n",
      "Saved captured_frames\\frame_1.jpg\n",
      "Saved captured_frames\\frame_2.jpg\n",
      "Saved captured_frames\\frame_3.jpg\n",
      "Saved captured_frames\\frame_4.jpg\n",
      "Saved captured_frames\\frame_5.jpg\n",
      "Saved captured_frames\\frame_6.jpg\n",
      "Saved captured_frames\\frame_7.jpg\n",
      "Saved captured_frames\\frame_8.jpg\n",
      "Saved captured_frames\\frame_9.jpg\n",
      "Saved captured_frames\\frame_10.jpg\n",
      "Saved captured_frames\\frame_11.jpg\n",
      "Saved captured_frames\\frame_12.jpg\n",
      "Saved captured_frames\\frame_13.jpg\n",
      "Saved captured_frames\\frame_14.jpg\n",
      "Saved captured_frames\\frame_15.jpg\n",
      "Saved captured_frames\\frame_16.jpg\n",
      "Saved captured_frames\\frame_17.jpg\n",
      "Saved captured_frames\\frame_18.jpg\n",
      "Saved captured_frames\\frame_19.jpg\n",
      "Saved captured_frames\\frame_20.jpg\n",
      "Saved captured_frames\\frame_21.jpg\n",
      "Saved captured_frames\\frame_22.jpg\n",
      "Saved captured_frames\\frame_23.jpg\n",
      "Saved captured_frames\\frame_24.jpg\n",
      "Saved captured_frames\\frame_25.jpg\n",
      "Saved captured_frames\\frame_26.jpg\n",
      "Saved captured_frames\\frame_27.jpg\n",
      "Finished capturing frames.\n",
      "Frames have been saved and zipped for download.\n",
      "Download the zip file here: captured_frames.zip\n"
     ]
    },
    {
     "data": {
      "text/html": [
       "<a href='captured_frames.zip' target='_blank'>captured_frames.zip</a><br>"
      ],
      "text/plain": [
       "C:\\Users\\GaddoStaffu\\Desktop\\CNN\\captured_frames.zip"
      ]
     },
     "execution_count": 5,
     "metadata": {},
     "output_type": "execute_result"
    }
   ],
   "source": [
    "import cv2\n",
    "import os\n",
    "import shutil\n",
    "from IPython.display import FileLink\n",
    "\n",
    "def capture_frames(video_path, output_folder, interval=60):\n",
    "    \"\"\"\n",
    "    Capture frames from a video at a specified interval and save them to a folder.\n",
    "    \n",
    "    Parameters:\n",
    "    - video_path: Path to the input video file.\n",
    "    - output_folder: Folder where captured frames will be saved.\n",
    "    - interval: Time interval (in seconds) between frames to capture.\n",
    "    \"\"\"\n",
    "    # Create output folder if it doesn't exist\n",
    "    if not os.path.exists(output_folder):\n",
    "        os.makedirs(output_folder)\n",
    "\n",
    "    # Open the video file\n",
    "    cap = cv2.VideoCapture(video_path)\n",
    "\n",
    "    # Get video frame rate (frames per second)\n",
    "    fps = cap.get(cv2.CAP_PROP_FPS)\n",
    "\n",
    "    # Calculate frame interval to capture (1 minute = 60 seconds)\n",
    "    frame_interval = int(fps * interval)\n",
    "\n",
    "    frame_count = 0\n",
    "    image_count = 0\n",
    "\n",
    "    while cap.isOpened():\n",
    "        # Read a frame\n",
    "        ret, frame = cap.read()\n",
    "\n",
    "        if not ret:\n",
    "            break\n",
    "\n",
    "        # Check if the current frame is at the capture interval\n",
    "        if frame_count % frame_interval == 0:\n",
    "            # Save the frame as an image\n",
    "            image_path = os.path.join(output_folder, f\"frame_{image_count}.jpg\")\n",
    "            cv2.imwrite(image_path, frame)\n",
    "            print(f\"Saved {image_path}\")\n",
    "            image_count += 1\n",
    "\n",
    "        frame_count += 1\n",
    "\n",
    "    # Release the video capture object\n",
    "    cap.release()\n",
    "    print(\"Finished capturing frames.\")\n",
    "\n",
    "# Example usage\n",
    "video_path = \"face.mp4\"  # Update this path to your video file in the same directory\n",
    "output_folder = \"captured_frames\"  # Folder to save frames locally\n",
    "capture_frames(video_path, output_folder, interval=60)\n",
    "\n",
    "# Zip the folder to make downloading easier\n",
    "shutil.make_archive(output_folder, 'zip', output_folder)\n",
    "print(\"Frames have been saved and zipped for download.\")\n",
    "\n",
    "# Provide a download link for the zip file\n",
    "zip_file_path = f\"{output_folder}.zip\"\n",
    "print(f\"Download the zip file here: {zip_file_path}\")\n",
    "FileLink(zip_file_path)\n"
   ]
  },
  {
   "cell_type": "code",
   "execution_count": null,
   "id": "c568f6c8-027f-45f0-a0ee-bcc44d22d7a7",
   "metadata": {},
   "outputs": [],
   "source": []
  }
 ],
 "metadata": {
  "kernelspec": {
   "display_name": "Python 3 (ipykernel)",
   "language": "python",
   "name": "python3"
  },
  "language_info": {
   "codemirror_mode": {
    "name": "ipython",
    "version": 3
   },
   "file_extension": ".py",
   "mimetype": "text/x-python",
   "name": "python",
   "nbconvert_exporter": "python",
   "pygments_lexer": "ipython3",
   "version": "3.12.5"
  }
 },
 "nbformat": 4,
 "nbformat_minor": 5
}
